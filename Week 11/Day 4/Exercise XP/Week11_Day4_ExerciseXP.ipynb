{
  "nbformat": 4,
  "nbformat_minor": 0,
  "metadata": {
    "colab": {
      "provenance": []
    },
    "kernelspec": {
      "name": "python3",
      "display_name": "Python 3"
    },
    "language_info": {
      "name": "python"
    }
  },
  "cells": [
    {
      "cell_type": "code",
      "execution_count": 1,
      "metadata": {
        "id": "6nDKNGGNPq9O"
      },
      "outputs": [],
      "source": []
    },
    {
      "cell_type": "markdown",
      "source": [
        "In this exercise, you’ll work with a 3x3 matrix. Here’s a brief explanation of the concepts:\n",
        "\n",
        "Determinant: The determinant is a value that can be computed from the elements of a square matrix. It provides important information about the matrix, such as whether it has an inverse, and is used in various areas like linear algebra and calculus.\n",
        "Inverse of a Matrix: The inverse of a matrix is a matrix that, when multiplied with the original matrix, results in an identity matrix. Not all matrices have inverses. The inverse is crucial in solving systems of linear equations.\n",
        "Create a 3x3 matrix and perform the following operations:\n",
        "\n",
        "Calculate the determinant.\n",
        "Find the inverse of the matrix."
      ],
      "metadata": {
        "id": "oP-sgBhNP0PS"
      }
    },
    {
      "cell_type": "code",
      "source": [
        "import numpy as np\n",
        "array = np.array([[1, 20, -3], [41, -5, 6], [7, 8, 9]])\n",
        "print(array)"
      ],
      "metadata": {
        "colab": {
          "base_uri": "https://localhost:8080/"
        },
        "id": "IdLMvLpXP0_c",
        "outputId": "c3d69487-2c03-4199-cfc9-a2aee2bea5cd"
      },
      "execution_count": 2,
      "outputs": [
        {
          "output_type": "stream",
          "name": "stdout",
          "text": [
            "[[ 1 20 -3]\n",
            " [41 -5  6]\n",
            " [ 7  8  9]]\n"
          ]
        }
      ]
    },
    {
      "cell_type": "code",
      "source": [
        "determinant = np.linalg.det(array)\n",
        "print(determinant)"
      ],
      "metadata": {
        "colab": {
          "base_uri": "https://localhost:8080/"
        },
        "id": "WvSvQFQ8P_JJ",
        "outputId": "078ca335-174a-426e-ca4c-57035b57ac4e"
      },
      "execution_count": 3,
      "outputs": [
        {
          "output_type": "stream",
          "name": "stdout",
          "text": [
            "-7721.999999999998\n"
          ]
        }
      ]
    },
    {
      "cell_type": "code",
      "source": [
        "inverse_array = np.linalg.inv(array)\n",
        "print(inverse_array)"
      ],
      "metadata": {
        "colab": {
          "base_uri": "https://localhost:8080/"
        },
        "id": "jOiyDG2LQ1Af",
        "outputId": "1254a98d-43cf-4e99-c2d5-31d019c7cc18"
      },
      "execution_count": 4,
      "outputs": [
        {
          "output_type": "stream",
          "name": "stdout",
          "text": [
            "[[ 0.01204351  0.02641803 -0.01359751]\n",
            " [ 0.04234654 -0.003885    0.01670552]\n",
            " [-0.04700855 -0.01709402  0.10683761]]\n"
          ]
        }
      ]
    },
    {
      "cell_type": "code",
      "source": [],
      "metadata": {
        "id": "kU60qOJtRG5M"
      },
      "execution_count": 4,
      "outputs": []
    },
    {
      "cell_type": "markdown",
      "source": [
        "Instructions\n",
        "In this exercise, you’ll calculate statistical measures for a dataset:\n",
        "\n",
        "Mean: The average value of a dataset.\n",
        "Median: The middle value in a dataset when it is arranged in ascending or descending order.\n",
        "Standard Deviation: A measure of the amount of variation or dispersion in a set of values.\n",
        "\n",
        "\n",
        "Using NumPy, generate an array of 50 random numbers and compute:\n",
        "\n",
        "The mean and median.\n",
        "The standard deviation."
      ],
      "metadata": {
        "id": "a34dyBq4R5M-"
      }
    },
    {
      "cell_type": "code",
      "source": [
        "array =np.arange(1,51)\n",
        "\n",
        "mean = np.mean(array)\n",
        "median = np.median(array)\n",
        "std = np.std(array)\n",
        "\n",
        "print(mean)\n",
        "print(median)\n",
        "print(std)"
      ],
      "metadata": {
        "colab": {
          "base_uri": "https://localhost:8080/"
        },
        "id": "PU_mGx5cR5ts",
        "outputId": "23a65f39-0a67-4b63-e54d-e0ba5e8e8c25"
      },
      "execution_count": 5,
      "outputs": [
        {
          "output_type": "stream",
          "name": "stdout",
          "text": [
            "25.5\n",
            "25.5\n",
            "14.430869689661812\n"
          ]
        }
      ]
    },
    {
      "cell_type": "code",
      "source": [],
      "metadata": {
        "id": "BV-tdQCDSFD8"
      },
      "execution_count": 5,
      "outputs": []
    },
    {
      "cell_type": "markdown",
      "source": [
        "Create a NumPy array of dates for the month of January 2023. Convert these dates to another format (e.g., YYYY/MM/DD)."
      ],
      "metadata": {
        "id": "-YHQsT7DSInr"
      }
    },
    {
      "cell_type": "code",
      "source": [
        "dates_array = np.arange('2023-01', '2023-02', dtype='datetime64[D]')\n",
        "print(dates_array)"
      ],
      "metadata": {
        "colab": {
          "base_uri": "https://localhost:8080/"
        },
        "id": "4aBFuxKfSJGS",
        "outputId": "a8171ac2-02f0-43b3-c83e-4ab9241258a0"
      },
      "execution_count": 6,
      "outputs": [
        {
          "output_type": "stream",
          "name": "stdout",
          "text": [
            "['2023-01-01' '2023-01-02' '2023-01-03' '2023-01-04' '2023-01-05'\n",
            " '2023-01-06' '2023-01-07' '2023-01-08' '2023-01-09' '2023-01-10'\n",
            " '2023-01-11' '2023-01-12' '2023-01-13' '2023-01-14' '2023-01-15'\n",
            " '2023-01-16' '2023-01-17' '2023-01-18' '2023-01-19' '2023-01-20'\n",
            " '2023-01-21' '2023-01-22' '2023-01-23' '2023-01-24' '2023-01-25'\n",
            " '2023-01-26' '2023-01-27' '2023-01-28' '2023-01-29' '2023-01-30'\n",
            " '2023-01-31']\n"
          ]
        }
      ]
    },
    {
      "cell_type": "code",
      "source": [
        "formatted_dates = np.array([str(date)[:10].replace('-', '/') for date in dates_array])\n",
        "print(formatted_dates)"
      ],
      "metadata": {
        "colab": {
          "base_uri": "https://localhost:8080/"
        },
        "id": "_G34q0haT8XP",
        "outputId": "8ae93a7c-0fd2-4660-c527-ecf61e6a3ac6"
      },
      "execution_count": 7,
      "outputs": [
        {
          "output_type": "stream",
          "name": "stdout",
          "text": [
            "['2023/01/01' '2023/01/02' '2023/01/03' '2023/01/04' '2023/01/05'\n",
            " '2023/01/06' '2023/01/07' '2023/01/08' '2023/01/09' '2023/01/10'\n",
            " '2023/01/11' '2023/01/12' '2023/01/13' '2023/01/14' '2023/01/15'\n",
            " '2023/01/16' '2023/01/17' '2023/01/18' '2023/01/19' '2023/01/20'\n",
            " '2023/01/21' '2023/01/22' '2023/01/23' '2023/01/24' '2023/01/25'\n",
            " '2023/01/26' '2023/01/27' '2023/01/28' '2023/01/29' '2023/01/30'\n",
            " '2023/01/31']\n"
          ]
        }
      ]
    },
    {
      "cell_type": "markdown",
      "source": [
        "Instructions\n",
        "Create a DataFrame with random numbers and perform:\n",
        "\n",
        "Conditional selection of data.\n",
        "Aggregation functions like sum and average."
      ],
      "metadata": {
        "id": "hOlvgbCYbMwR"
      }
    },
    {
      "cell_type": "code",
      "source": [
        "import pandas as pd\n",
        "rand_num = np.random.randint(1, 101, size=(5, 5))\n",
        "dataframe = pd.DataFrame(rand_num)\n",
        "print(dataframe)\n",
        "\n",
        "above_50 = dataframe[dataframe > 50]\n",
        "sum_above_50 = above_50.sum()\n",
        "avg_above_50 = above_50.mean()\n",
        "\n",
        "print('Sum',sum_above_50)\n",
        "print('Avg',avg_above_50)"
      ],
      "metadata": {
        "colab": {
          "base_uri": "https://localhost:8080/"
        },
        "id": "g5d2UBqsZV7F",
        "outputId": "7a406a01-c884-4f0e-992c-c88cadc6a811"
      },
      "execution_count": 8,
      "outputs": [
        {
          "output_type": "stream",
          "name": "stdout",
          "text": [
            "    0   1   2   3   4\n",
            "0  94  14  42  50  62\n",
            "1  78  37  89  20  13\n",
            "2  13  23  47  22  29\n",
            "3  51  79  92  91   3\n",
            "4  16  17  73   3  20\n",
            "Sum 0    223.0\n",
            "1     79.0\n",
            "2    254.0\n",
            "3     91.0\n",
            "4     62.0\n",
            "dtype: float64\n",
            "Avg 0    74.333333\n",
            "1    79.000000\n",
            "2    84.666667\n",
            "3    91.000000\n",
            "4    62.000000\n",
            "dtype: float64\n"
          ]
        }
      ]
    },
    {
      "cell_type": "markdown",
      "source": [
        "Images are represented as pixel values in multidimensional arrays."
      ],
      "metadata": {
        "id": "scqqehYhxtk8"
      }
    },
    {
      "cell_type": "code",
      "source": [
        "import matplotlib.pyplot as plt\n",
        "\n",
        "grayscale_image = np.random.randint(0, 256, (5, 5), dtype=np.uint8)\n",
        "print(grayscale_image)\n",
        "\n",
        "plt.imshow(grayscale_image, cmap='gray')\n",
        "plt.show()"
      ],
      "metadata": {
        "colab": {
          "base_uri": "https://localhost:8080/",
          "height": 517
        },
        "id": "QoxgarV3bSmW",
        "outputId": "85888129-7d26-478f-d966-9509fd5e9a12"
      },
      "execution_count": 9,
      "outputs": [
        {
          "output_type": "stream",
          "name": "stdout",
          "text": [
            "[[ 56 125  51  32 243]\n",
            " [162  65 191  64 184]\n",
            " [ 74 201  95 140  54]\n",
            " [104  60  44 143  21]\n",
            " [  5 225 144 138 139]]\n"
          ]
        },
        {
          "output_type": "display_data",
          "data": {
            "text/plain": [
              "<Figure size 640x480 with 1 Axes>"
            ],
            "image/png": "[encoded data removed]"
          },
          "metadata": {}
        }
      ]
    },
    {
      "cell_type": "markdown",
      "source": [
        "Create a sample dataset to test the effectiveness of a new training program on employee productivity:"
      ],
      "metadata": {
        "id": "rz9Af4JcyfNg"
      }
    },
    {
      "cell_type": "code",
      "source": [
        "import numpy as np\n",
        "\n",
        "# Productivity scores of employees before the training program\n",
        "productivity_before = np.random.normal(loc=50, scale=10, size=30)\n",
        "\n",
        "# Productivity scores of the same employees after the training program\n",
        "productivity_after = productivity_before + np.random.normal(loc=5, scale=3, size=30)\n",
        "\n",
        "# Your task is to formulate a hypothesis regarding the training program's effectiveness\n",
        "# and test it using basic statistical functions in NumPy.\n",
        "\n",
        "null_hyp = np.mean(productivity_before) == np.mean(productivity_after)\n",
        "\n",
        "productivity_before_mean = np.mean(productivity_before)\n",
        "productivity_before_std = np.std(productivity_before)\n",
        "productivity_after_mean = np.mean(productivity_after)\n",
        "productivity_after_std = np.std(productivity_after)\n",
        "\n",
        "print(null_hyp)\n",
        "print(productivity_before_mean)\n",
        "print(productivity_before_std)\n",
        "print(productivity_after_mean)\n",
        "print(productivity_after_std)"
      ],
      "metadata": {
        "colab": {
          "base_uri": "https://localhost:8080/"
        },
        "id": "mrvh_pz_x72-",
        "outputId": "50451b4b-5c82-48d6-fad3-5d38596bb6a7"
      },
      "execution_count": 10,
      "outputs": [
        {
          "output_type": "stream",
          "name": "stdout",
          "text": [
            "False\n",
            "50.754797773402395\n",
            "8.366935403832104\n",
            "56.89029452313212\n",
            "8.51469858690796\n"
          ]
        }
      ]
    },
    {
      "cell_type": "code",
      "source": [
        "from scipy import stats\n",
        "\n",
        "t_stat, p_value = stats.ttest_rel(productivity_before, productivity_after)\n",
        "\n",
        "alpha = 0.05\n",
        "if p_value < alpha:\n",
        "    print(\"Reject the null hypothesis and conclude that training had an impact on productivity\")\n",
        "else:\n",
        "    print(\"Fail to reject the null hypothesis and conclude that there is not enough confidence that the training impacted productivty.\")"
      ],
      "metadata": {
        "colab": {
          "base_uri": "https://localhost:8080/"
        },
        "id": "v6wdxprHBOYw",
        "outputId": "9391d38e-88b5-4e0a-e34a-e5e1b0b140d3"
      },
      "execution_count": 11,
      "outputs": [
        {
          "output_type": "stream",
          "name": "stdout",
          "text": [
            "Reject the null hypothesis and conclude that training had an impact on productivity\n"
          ]
        }
      ]
    },
    {
      "cell_type": "markdown",
      "source": [
        "Instructions\n",
        "Create two arrays and perform element-wise comparison to find which elements are greater in the first array.\n",
        "\n",
        "The expected output is a boolean array showing which elements in the first array are greater than the corresponding elements in the second array."
      ],
      "metadata": {
        "id": "tNVvSNs7KrMp"
      }
    },
    {
      "cell_type": "code",
      "source": [
        "\n",
        "array1 =np.random.randint(1,101,size=10)\n",
        "array2 =np.random.randint(1,101,size=10)\n",
        "comp = []\n",
        "for index, num in enumerate(array1):\n",
        "    if array1[index] > array2[index]:\n",
        "        comp.append(True)\n",
        "    else:\n",
        "        comp.append(False)\n",
        "\n",
        "print(array1)\n",
        "print(array2)\n",
        "print(comp)"
      ],
      "metadata": {
        "colab": {
          "base_uri": "https://localhost:8080/"
        },
        "id": "qC3TREBYB6r5",
        "outputId": "8376bb21-8710-4292-9e2e-282378e2abc4"
      },
      "execution_count": 12,
      "outputs": [
        {
          "output_type": "stream",
          "name": "stdout",
          "text": [
            "[ 6 84 14 53 63 37 28 83 25 87]\n",
            "[27 76 47 85 75  5 79 32 71 34]\n",
            "[False, True, False, False, False, True, False, True, False, True]\n"
          ]
        }
      ]
    },
    {
      "cell_type": "markdown",
      "source": [
        "Instructions\n",
        "Generate time series data for the year 2023. Demonstrate slicing for the following intervals:\n",
        "\n",
        "\n",
        "January to March\n",
        "April to June\n",
        "July to September\n",
        "October to December\n",
        "\n",
        "Generate a time series data for a specific period and demonstrate how to slice this data for different intervals."
      ],
      "metadata": {
        "id": "rZwA7GY6MDiY"
      }
    },
    {
      "cell_type": "code",
      "source": [
        "year_2023 = pd.date_range(start='2023-01', end='2023-12',freq='MS')\n",
        "\n",
        "print(year_2023)\n"
      ],
      "metadata": {
        "colab": {
          "base_uri": "https://localhost:8080/"
        },
        "id": "9b-JvLrcLQ68",
        "outputId": "86fcd37a-7958-48c5-ec37-8ee2ac123a9d"
      },
      "execution_count": 27,
      "outputs": [
        {
          "output_type": "stream",
          "name": "stdout",
          "text": [
            "DatetimeIndex(['2023-01-01', '2023-02-01', '2023-03-01', '2023-04-01',\n",
            "               '2023-05-01', '2023-06-01', '2023-07-01', '2023-08-01',\n",
            "               '2023-09-01', '2023-10-01', '2023-11-01', '2023-12-01'],\n",
            "              dtype='datetime64[ns]', freq='MS')\n",
            "            0\n",
            "0  2023-01-01\n",
            "1  2023-02-01\n",
            "2  2023-03-01\n",
            "3  2023-04-01\n",
            "4  2023-05-01\n",
            "5  2023-06-01\n",
            "6  2023-07-01\n",
            "7  2023-08-01\n",
            "8  2023-09-01\n",
            "9  2023-10-01\n",
            "10 2023-11-01\n",
            "11 2023-12-01\n"
          ]
        }
      ]
    },
    {
      "cell_type": "code",
      "source": [
        "Q1 = year_2023[0:3]\n",
        "Q2 = year_2023[3:6]\n",
        "Q3 = year_2023[6:9]\n",
        "Q4 = year_2023[9:12]\n",
        "Q5 = year_2023[12:15]\n",
        "\n",
        "print(Q1)\n",
        "print(Q2)\n",
        "print(Q3)\n",
        "print(Q4)\n",
        "print(Q5)"
      ],
      "metadata": {
        "colab": {
          "base_uri": "https://localhost:8080/"
        },
        "id": "KZuPpzroNl2P",
        "outputId": "32b926dc-27d2-490a-f2d9-b7f8016271ff"
      },
      "execution_count": 26,
      "outputs": [
        {
          "output_type": "stream",
          "name": "stdout",
          "text": [
            "DatetimeIndex(['2023-01-01', '2023-02-01', '2023-03-01'], dtype='datetime64[ns]', freq='MS')\n",
            "DatetimeIndex(['2023-04-01', '2023-05-01', '2023-06-01'], dtype='datetime64[ns]', freq='MS')\n",
            "DatetimeIndex(['2023-07-01', '2023-08-01', '2023-09-01'], dtype='datetime64[ns]', freq='MS')\n",
            "DatetimeIndex(['2023-10-01', '2023-11-01', '2023-12-01'], dtype='datetime64[ns]', freq='MS')\n",
            "DatetimeIndex([], dtype='datetime64[ns]', freq='MS')\n"
          ]
        }
      ]
    },
    {
      "cell_type": "code",
      "source": [
        "np_array = np.arange(1, 101)\n",
        "print(np_array)\n",
        "pd_df = pd.DataFrame(np_array, columns=['Number'])\n",
        "print(pd_df)"
      ],
      "metadata": {
        "colab": {
          "base_uri": "https://localhost:8080/"
        },
        "id": "ShnvwitxN2Fh",
        "outputId": "701fc3b8-a1fd-4d6e-ad2c-765a1e3195b6"
      },
      "execution_count": 19,
      "outputs": [
        {
          "output_type": "stream",
          "name": "stdout",
          "text": [
            "[  1   2   3   4   5   6   7   8   9  10  11  12  13  14  15  16  17  18\n",
            "  19  20  21  22  23  24  25  26  27  28  29  30  31  32  33  34  35  36\n",
            "  37  38  39  40  41  42  43  44  45  46  47  48  49  50  51  52  53  54\n",
            "  55  56  57  58  59  60  61  62  63  64  65  66  67  68  69  70  71  72\n",
            "  73  74  75  76  77  78  79  80  81  82  83  84  85  86  87  88  89  90\n",
            "  91  92  93  94  95  96  97  98  99 100]\n",
            "    Number\n",
            "0        1\n",
            "1        2\n",
            "2        3\n",
            "3        4\n",
            "4        5\n",
            "..     ...\n",
            "95      96\n",
            "96      97\n",
            "97      98\n",
            "98      99\n",
            "99     100\n",
            "\n",
            "[100 rows x 1 columns]\n"
          ]
        }
      ]
    },
    {
      "cell_type": "code",
      "source": [
        "from_df_to_np = pd_df.to_numpy()\n",
        "print(from_df_to_np)"
      ],
      "metadata": {
        "colab": {
          "base_uri": "https://localhost:8080/"
        },
        "id": "XOfym5YM0eAn",
        "outputId": "9ed10fb5-0f4a-418b-9ebf-792044c0c63f"
      },
      "execution_count": 18,
      "outputs": [
        {
          "output_type": "stream",
          "name": "stdout",
          "text": [
            "[[  1]\n",
            " [  2]\n",
            " [  3]\n",
            " [  4]\n",
            " [  5]\n",
            " [  6]\n",
            " [  7]\n",
            " [  8]\n",
            " [  9]\n",
            " [ 10]\n",
            " [ 11]\n",
            " [ 12]\n",
            " [ 13]\n",
            " [ 14]\n",
            " [ 15]\n",
            " [ 16]\n",
            " [ 17]\n",
            " [ 18]\n",
            " [ 19]\n",
            " [ 20]\n",
            " [ 21]\n",
            " [ 22]\n",
            " [ 23]\n",
            " [ 24]\n",
            " [ 25]\n",
            " [ 26]\n",
            " [ 27]\n",
            " [ 28]\n",
            " [ 29]\n",
            " [ 30]\n",
            " [ 31]\n",
            " [ 32]\n",
            " [ 33]\n",
            " [ 34]\n",
            " [ 35]\n",
            " [ 36]\n",
            " [ 37]\n",
            " [ 38]\n",
            " [ 39]\n",
            " [ 40]\n",
            " [ 41]\n",
            " [ 42]\n",
            " [ 43]\n",
            " [ 44]\n",
            " [ 45]\n",
            " [ 46]\n",
            " [ 47]\n",
            " [ 48]\n",
            " [ 49]\n",
            " [ 50]\n",
            " [ 51]\n",
            " [ 52]\n",
            " [ 53]\n",
            " [ 54]\n",
            " [ 55]\n",
            " [ 56]\n",
            " [ 57]\n",
            " [ 58]\n",
            " [ 59]\n",
            " [ 60]\n",
            " [ 61]\n",
            " [ 62]\n",
            " [ 63]\n",
            " [ 64]\n",
            " [ 65]\n",
            " [ 66]\n",
            " [ 67]\n",
            " [ 68]\n",
            " [ 69]\n",
            " [ 70]\n",
            " [ 71]\n",
            " [ 72]\n",
            " [ 73]\n",
            " [ 74]\n",
            " [ 75]\n",
            " [ 76]\n",
            " [ 77]\n",
            " [ 78]\n",
            " [ 79]\n",
            " [ 80]\n",
            " [ 81]\n",
            " [ 82]\n",
            " [ 83]\n",
            " [ 84]\n",
            " [ 85]\n",
            " [ 86]\n",
            " [ 87]\n",
            " [ 88]\n",
            " [ 89]\n",
            " [ 90]\n",
            " [ 91]\n",
            " [ 92]\n",
            " [ 93]\n",
            " [ 94]\n",
            " [ 95]\n",
            " [ 96]\n",
            " [ 97]\n",
            " [ 98]\n",
            " [ 99]\n",
            " [100]]\n"
          ]
        }
      ]
    },
    {
      "cell_type": "code",
      "source": [
        "import matplotlib.pyplot as plt\n",
        "\n",
        "\n",
        "random_numbers = np.random.randint(1, 101, size=(4,3))\n",
        "plt.plot(random_numbers)\n",
        "plt.show()"
      ],
      "metadata": {
        "colab": {
          "base_uri": "https://localhost:8080/",
          "height": 430
        },
        "id": "MkSoTuTc0xjJ",
        "outputId": "8701b6fc-6843-411a-b6c2-ca64a6dffe77"
      },
      "execution_count": 35,
      "outputs": [
        {
          "output_type": "display_data",
          "data": {
            "text/plain": [
              "<Figure size 640x480 with 1 Axes>"
            ],
            "image/png": "[encoded data removed]"
          },
          "metadata": {}
        }
      ]
    },
    {
      "cell_type": "code",
      "source": [],
      "metadata": {
        "id": "TLs9BZfp7_UC"
      },
      "execution_count": null,
      "outputs": []
    }
  ]
}